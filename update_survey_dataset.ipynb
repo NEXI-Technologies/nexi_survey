{
 "cells": [
  {
   "cell_type": "code",
   "execution_count": null,
   "id": "196d7c27",
   "metadata": {},
   "outputs": [],
   "source": [
    "from firebase_utils import get_data\n",
    "import pandas as pd\n",
    "import os\n",
    "import json\n",
    "import glob\n",
    "import psycopg2\n",
    "from dotenv import load_dotenv"
   ]
  },
  {
   "cell_type": "code",
   "execution_count": 2,
   "id": "9295030b",
   "metadata": {},
   "outputs": [],
   "source": [
    "survey_data = get_data()"
   ]
  },
  {
   "cell_type": "code",
   "execution_count": 74,
   "id": "04ea1668",
   "metadata": {},
   "outputs": [],
   "source": [
    "def clean_datetime(obj):\n",
    "    if hasattr(obj, 'isoformat'):\n",
    "        return obj.isoformat()\n",
    "    return str(obj)"
   ]
  },
  {
   "cell_type": "code",
   "execution_count": 75,
   "id": "cf34cc9c",
   "metadata": {},
   "outputs": [],
   "source": [
    "# with open('answers.json', 'w', encoding='utf-8') as f:\n",
    "#     json.dump(survey_data, f, ensure_ascii=False, indent=2, default=clean_datetime)"
   ]
  },
  {
   "cell_type": "code",
   "execution_count": null,
   "id": "8bf5d8a3",
   "metadata": {},
   "outputs": [],
   "source": [
    "load_dotenv()\n",
    "\n",
    "db_config = {\n",
    "    \"dbname\": os.getenv(\"DB_NAME\"),\n",
    "    \"user\": os.getenv(\"DB_USER\"),\n",
    "    \"password\": os.getenv(\"DB_PASSWORD\"),\n",
    "    \"host\": os.getenv(\"DB_HOST\"),\n",
    "    \"port\": os.getenv(\"DB_PORT\"),\n",
    "}\n"
   ]
  },
  {
   "cell_type": "code",
   "execution_count": null,
   "id": "80b889b4",
   "metadata": {},
   "outputs": [
    {
     "name": "stdout",
     "output_type": "stream",
     "text": [
      "Processing NEXI - Apresentação-20250213_123528-Meeting Recording.\n",
      "Processing Zoom_Class_Meeting_Downing_Soc_220_2-18-2021-clean.\n",
      "Processing 2021-05-24_-_Club_Meeting_-_Gallery_View-clean.\n",
      "Processing TMU_-_History_102_-_ZOOM_Class_Meeting_-_March_25th,_2020-clean.\n",
      "Processing concerta_2024-09-30_atualizado_baixo.\n"
     ]
    }
   ],
   "source": [
    "structured_data = {}\n",
    "\n",
    "for answers in survey_data:\n",
    "    \n",
    "    answer = answers['answers'] \n",
    "    for key, values in answer.items():\n",
    "        csv_name = key.split(\"/\")[0]\n",
    "        date = key.split(\"/\")[1]\n",
    "        new_values = {f\"{date} {k}\": v for k, v in values.items()}\n",
    "            \n",
    "        if csv_name not in structured_data:\n",
    "            structured_data[csv_name] = {}\n",
    "        structured_data[csv_name].update(new_values)\n",
    "        \n",
    "        \n",
    "conn = psycopg2.connect(**db_config)\n",
    "cur = conn.cursor()\n",
    "\n",
    "for csv_name, values in structured_data.items():\n",
    "    csv_path = f\"survey_datasets/{csv_name}.csv\"\n",
    "    csv_name_db = csv_name + \".csv\"  \n",
    "    df = pd.read_csv(csv_path, low_memory=False)\n",
    "    if 'engagement' not in df.columns:\n",
    "        df['engagement'] = None  # Adiciona a coluna vazia\n",
    "        df['engagement'] = df['engagement'].astype('object')  # Garante o tipo\n",
    "\n",
    "    print(f\"Processing {csv_name}.\")\n",
    "    \n",
    "    # Atualiza no DataFrame com os valores de engagement\n",
    "    for info, engagement in values.items():\n",
    "        datetime_column = info.split(\" \")[0] + \" \" + info.split(\" \")[1].replace(\"-\", \":\")\n",
    "        face = int(info.split(\" \")[2].split(\"-\")[0].replace(\"face\", \"\"))\n",
    "        face_bbox_x1, face_bbox_y1, face_bbox_x2, face_bbox_y2 = map(int, info.split(\" \")[2].replace(\".jpg\",\"\").split(\"-\")[1].split(\"_\"))\n",
    "        filter_condition = ( (df['datetime'] == datetime_column) & (df['face'] == face) & (df['face_bbox_x1'] == face_bbox_x1) & (df['face_bbox_y1'] == face_bbox_y1) & (df['face_bbox_x2'] == face_bbox_x2) & (df['face_bbox_y2'] == face_bbox_y2))\n",
    "        df.loc[filter_condition, \"engagement\"] = engagement\n",
    "        \n",
    "        cur.execute(\"\"\"\n",
    "            UPDATE datasets\n",
    "            SET engagement = %s\n",
    "            WHERE datetime = %s AND face = %s\n",
    "                AND face_bbox_x1 = %s AND face_bbox_y1 = %s\n",
    "                AND face_bbox_x2 = %s AND face_bbox_y2 = %s\n",
    "                AND name = %s\n",
    "        \"\"\", (\n",
    "            engagement, datetime_column, face,\n",
    "            face_bbox_x1, face_bbox_y1, face_bbox_x2, face_bbox_y2,\n",
    "            csv_name_db\n",
    "        )) \n",
    "\n",
    "    df.to_csv(csv_path, index=False)\n",
    "    print(f\"Updated {csv_path} with engagement data.\")"
   ]
  },
  {
   "cell_type": "code",
   "execution_count": null,
   "id": "6111ed09",
   "metadata": {},
   "outputs": [],
   "source": [
    "        # print(f\"CSV: {csv_name}, Date: {datetime_column}, Face: {face}, Bbox: ({face_bbox_x1}, {face_bbox_y1}, {face_bbox_x2}, {face_bbox_y2}), Engagement: {engagement}\")\n",
    "        # values_found = df.loc[filter_condition]\n",
    "        # if not values_found.empty:\n",
    "            # print(\"OI\")\n",
    "            # print(f\"Warning: No matching row found for {csv_name} with datetime {datetime_column}, face {face}, bbox ({face_bbox_x1}, {face_bbox_y1}, {face_bbox_x2}, {face_bbox_y2})\")"
   ]
  },
  {
   "cell_type": "code",
   "execution_count": null,
   "id": "77002a12",
   "metadata": {},
   "outputs": [
    {
     "name": "stdout",
     "output_type": "stream",
     "text": [
      "Removendo coluna 'engagement' de: survey_datasets\\2021-05-24_-_Club_Meeting_-_Gallery_View-clean.csv\n",
      "Coluna removida com sucesso.\n",
      "\n",
      "Removendo coluna 'engagement' de: survey_datasets\\concerta_2024-09-30_atualizado_baixo.csv\n",
      "Coluna removida com sucesso.\n",
      "\n",
      "Removendo coluna 'engagement' de: survey_datasets\\NEXI - Apresentação-20250213_123528-Meeting Recording.csv\n"
     ]
    },
    {
     "name": "stderr",
     "output_type": "stream",
     "text": [
      "C:\\Users\\danie\\AppData\\Local\\Temp\\ipykernel_5264\\1911185185.py:6: DtypeWarning: Columns (46) have mixed types. Specify dtype option on import or set low_memory=False.\n",
      "  df = pd.read_csv(file)\n"
     ]
    },
    {
     "name": "stdout",
     "output_type": "stream",
     "text": [
      "Coluna removida com sucesso.\n",
      "\n",
      "Removendo coluna 'engagement' de: survey_datasets\\PE Meetup Recording with Gallery View-clean.csv\n",
      "Coluna 'engagement' não existe neste arquivo.\n",
      "Removendo coluna 'engagement' de: survey_datasets\\TMU_-_History_102_-_ZOOM_Class_Meeting_-_March_25th,_2020-clean.csv\n"
     ]
    },
    {
     "name": "stderr",
     "output_type": "stream",
     "text": [
      "C:\\Users\\danie\\AppData\\Local\\Temp\\ipykernel_5264\\1911185185.py:6: DtypeWarning: Columns (46) have mixed types. Specify dtype option on import or set low_memory=False.\n",
      "  df = pd.read_csv(file)\n"
     ]
    },
    {
     "name": "stdout",
     "output_type": "stream",
     "text": [
      "Coluna removida com sucesso.\n",
      "\n",
      "Removendo coluna 'engagement' de: survey_datasets\\Zoom_Class_Meeting_Downing_Soc_220_2-18-2021-clean.csv\n"
     ]
    },
    {
     "name": "stderr",
     "output_type": "stream",
     "text": [
      "C:\\Users\\danie\\AppData\\Local\\Temp\\ipykernel_5264\\1911185185.py:6: DtypeWarning: Columns (46) have mixed types. Specify dtype option on import or set low_memory=False.\n",
      "  df = pd.read_csv(file)\n"
     ]
    },
    {
     "name": "stdout",
     "output_type": "stream",
     "text": [
      "Coluna removida com sucesso.\n",
      "\n"
     ]
    }
   ],
   "source": [
    "# Lista todos os arquivos CSV na pasta\n",
    "csv_files = glob.glob(\"survey_datasets/*.csv\")\n",
    "\n",
    "for file in csv_files:\n",
    "    print(f\"Removendo coluna 'engagement' de: {file}\")\n",
    "    df = pd.read_csv(file, low_memory=False)\n",
    "    \n",
    "    if 'engagement' in df.columns:\n",
    "        df.drop(columns=['engagement'], inplace=True)\n",
    "        df.to_csv(file, index=False)\n",
    "        print(\"Coluna removida com sucesso.\\n\")\n",
    "    else:\n",
    "        print(\"Coluna 'engagement' não existe neste arquivo.\")"
   ]
  },
  {
   "cell_type": "code",
   "execution_count": 4,
   "id": "a25490b4",
   "metadata": {},
   "outputs": [
    {
     "data": {
      "text/plain": [
       "array([nan, '5', '4', '8', '2', '6', '3', '9', '7', 'No context image',\n",
       "       '10'], dtype=object)"
      ]
     },
     "execution_count": 4,
     "metadata": {},
     "output_type": "execute_result"
    }
   ],
   "source": [
    "df = pd.read_csv(\"survey_datasets/NEXI - Apresentação-20250213_123528-Meeting Recording.csv\", low_memory=False)\n",
    "df['engagement'].unique()"
   ]
  },
  {
   "cell_type": "code",
   "execution_count": 10,
   "id": "21691d52",
   "metadata": {},
   "outputs": [
    {
     "data": {
      "text/plain": [
       "array([nan,  5.,  6.,  7.,  4.])"
      ]
     },
     "execution_count": 10,
     "metadata": {},
     "output_type": "execute_result"
    }
   ],
   "source": [
    "df = pd.read_csv(\"survey_datasets/concerta_2024-09-30_atualizado_baixo.csv\", low_memory=False)\n",
    "df['engagement'].unique()"
   ]
  },
  {
   "cell_type": "code",
   "execution_count": 6,
   "id": "92154553",
   "metadata": {},
   "outputs": [
    {
     "data": {
      "text/plain": [
       "array([nan, '2', '8', '9', '3', 'Imagem sem contexto'], dtype=object)"
      ]
     },
     "execution_count": 6,
     "metadata": {},
     "output_type": "execute_result"
    }
   ],
   "source": [
    "df = pd.read_csv(\"survey_datasets/Zoom_Class_Meeting_Downing_Soc_220_2-18-2021-clean.csv\", low_memory=False)\n",
    "df['engagement'].unique()"
   ]
  },
  {
   "cell_type": "code",
   "execution_count": 7,
   "id": "31b8a12f",
   "metadata": {},
   "outputs": [
    {
     "data": {
      "text/plain": [
       "array([nan, '1', '6', '9', '3', '7', '2', 'No context image', '10', '4',\n",
       "       '8', '5'], dtype=object)"
      ]
     },
     "execution_count": 7,
     "metadata": {},
     "output_type": "execute_result"
    }
   ],
   "source": [
    "df = pd.read_csv(\"survey_datasets/TMU_-_History_102_-_ZOOM_Class_Meeting_-_March_25th,_2020-clean.csv\", low_memory=False)\n",
    "df['engagement'].unique()"
   ]
  },
  {
   "cell_type": "code",
   "execution_count": null,
   "id": "85402004",
   "metadata": {},
   "outputs": [],
   "source": [
    "df = pd.read_csv(\"survey_datasets/PE Meetup Recording with Gallery View-clean.csv\", low_memory=False)\n",
    "df['engagement'].unique()"
   ]
  },
  {
   "cell_type": "code",
   "execution_count": 9,
   "id": "7851f25a",
   "metadata": {},
   "outputs": [
    {
     "data": {
      "text/plain": [
       "array([nan])"
      ]
     },
     "execution_count": 9,
     "metadata": {},
     "output_type": "execute_result"
    }
   ],
   "source": [
    "df = pd.read_csv(\"survey_datasets/2021-05-24_-_Club_Meeting_-_Gallery_View-clean.csv\", low_memory=False)\n",
    "df['engagement'].unique()"
   ]
  }
 ],
 "metadata": {
  "kernelspec": {
   "display_name": "nexi_website",
   "language": "python",
   "name": "python3"
  },
  "language_info": {
   "codemirror_mode": {
    "name": "ipython",
    "version": 3
   },
   "file_extension": ".py",
   "mimetype": "text/x-python",
   "name": "python",
   "nbconvert_exporter": "python",
   "pygments_lexer": "ipython3",
   "version": "3.12.9"
  }
 },
 "nbformat": 4,
 "nbformat_minor": 5
}
